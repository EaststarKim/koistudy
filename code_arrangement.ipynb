{
 "cells": [
  {
   "cell_type": "code",
   "execution_count": 206,
   "metadata": {},
   "outputs": [],
   "source": [
    "import os\n",
    "import shutil\n",
    "from tqdm import tqdm\n",
    "\n",
    "path = './codes/'\n",
    "new_path = './koistudy/'\n",
    "if not os.path.exists(new_path):\n",
    "    os.mkdir(new_path)"
   ]
  },
  {
   "cell_type": "code",
   "execution_count": 207,
   "metadata": {},
   "outputs": [
    {
     "data": {
      "text/plain": [
       "1490"
      ]
     },
     "execution_count": 207,
     "metadata": {},
     "output_type": "execute_result"
    }
   ],
   "source": [
    "probs = os.listdir(path)\n",
    "len(probs)"
   ]
  },
  {
   "cell_type": "code",
   "execution_count": 208,
   "metadata": {},
   "outputs": [
    {
     "name": "stdout",
     "output_type": "stream",
     "text": [
      "[99, 100, 95, 79, 87, 83, 73, 75, 65, 53, 62, 73, 70, 76, 81, 66, 81, 64, 34, 3, 35, 12, 21, 0, 0, 3]\n"
     ]
    }
   ],
   "source": [
    "cnt = [0] * 26\n",
    "for prob in probs:\n",
    "    prob_no = int(prob.split()[0])\n",
    "    cnt[prob_no // 100] += 1\n",
    "print(cnt)"
   ]
  },
  {
   "cell_type": "code",
   "execution_count": 209,
   "metadata": {},
   "outputs": [],
   "source": [
    "s = [0, 1, 2, 3, 4, 5, 6, 7, 8, 9, 10, 11, 12, 13, 14, 15, 16, 17, 19]\n",
    "t = [0, 1, 2, 3, 4, 5, 6, 7, 8, 9, 10, 11, 12, 13, 14, 15, 16, 17, 17, 18, 18, 18, 18, 18, 18, 18]\n",
    "dirs = []\n",
    "for i in range(19):\n",
    "    dir_name = f'{s[i] * 100 if s[i] > 0 else 1 :04d}~'\n",
    "    if i < 18:\n",
    "        dir_name += f'{s[i+1] * 100 - 1 :04d}'\n",
    "    dirs.append(dir_name)\n",
    "    if not os.path.exists(os.path.join(new_path, dir_name)):\n",
    "        os.mkdir(os.path.join(new_path, dir_name))"
   ]
  },
  {
   "cell_type": "code",
   "execution_count": 210,
   "metadata": {},
   "outputs": [
    {
     "name": "stderr",
     "output_type": "stream",
     "text": [
      "100%|██████████| 1490/1490 [00:01<00:00, 1267.54it/s]\n"
     ]
    }
   ],
   "source": [
    "for prob in tqdm(probs):\n",
    "    prob_no = int(prob.split()[0])\n",
    "    files = os.listdir(os.path.join(path, prob))\n",
    "    for file in files:\n",
    "        if '.cpp' not in file and '.h' not in file:\n",
    "            continue\n",
    "        new_file = file.replace('main', str(prob_no))\n",
    "        dir_name = dirs[t[prob_no // 100]]\n",
    "        #shutil.move(path + file, new_path + file)\n",
    "        shutil.copy(os.path.join(path, prob, file), os.path.join(new_path, dir_name, new_file))"
   ]
  },
  {
   "cell_type": "code",
   "execution_count": null,
   "metadata": {},
   "outputs": [],
   "source": []
  }
 ],
 "metadata": {
  "kernelspec": {
   "display_name": "Python 3",
   "language": "python",
   "name": "python3"
  },
  "language_info": {
   "codemirror_mode": {
    "name": "ipython",
    "version": 3
   },
   "file_extension": ".py",
   "mimetype": "text/x-python",
   "name": "python",
   "nbconvert_exporter": "python",
   "pygments_lexer": "ipython3",
   "version": "3.8.5"
  }
 },
 "nbformat": 4,
 "nbformat_minor": 4
}
